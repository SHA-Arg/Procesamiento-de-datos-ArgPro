{
 "cells": [
  {
   "cell_type": "markdown",
   "id": "89afe2ae",
   "metadata": {},
   "source": [
    "# Realizacion de la Parte 2"
   ]
  },
  {
   "cell_type": "markdown",
   "id": "f9794d66",
   "metadata": {},
   "source": [
    "Realizar una ingesta de datos de un archivo formato .csv utilizando la librería de Pandas\n",
    "Para este apartado, deberás poder ingestar un archivo en Jupyter Notebook en un formato de tipo .csv. \n",
    "Ademas de la ingesta realice algunas consultas para obtener mas informacion del Dataset\n"
   ]
  },
  {
   "cell_type": "markdown",
   "id": "b440661e",
   "metadata": {},
   "source": [
    "Importacion del Listado con informacion de flujo vehicular detectado por los sensores de la Ciudad. Incluye latitud y longitud del sensor, fecha, hora y cantidad...\n",
    "Link: https://data.buenosaires.gob.ar/dataset/flujo-vehicular-anillo-digital"
   ]
  },
  {
   "cell_type": "markdown",
   "id": "984aa5c6",
   "metadata": {},
   "source": [
    "Realizo la ingesta del dataset elegido."
   ]
  },
  {
   "cell_type": "code",
   "execution_count": 10,
   "id": "01ea4ffa",
   "metadata": {},
   "outputs": [],
   "source": [
    "import pandas as pd\n",
    "\n",
    "df = pd.read_csv(\"C:/Users/SHA/Documents/CURSOS/Python Arg. Prog/Proyecto Final/dataset_flujo_vehicular.csv\", sep = \",\")"
   ]
  },
  {
   "cell_type": "markdown",
   "id": "7ba922ee",
   "metadata": {},
   "source": [
    "Checkeo de las dimensiones del Dataset"
   ]
  },
  {
   "cell_type": "code",
   "execution_count": 5,
   "id": "9e6078f9",
   "metadata": {},
   "outputs": [
    {
     "name": "stdout",
     "output_type": "stream",
     "text": [
      "(189814, 6)\n"
     ]
    }
   ],
   "source": [
    "print(df.shape)"
   ]
  },
  {
   "cell_type": "markdown",
   "id": "644c6940",
   "metadata": {},
   "source": [
    "Listo los nombres de las columnas del Dataset"
   ]
  },
  {
   "cell_type": "code",
   "execution_count": 4,
   "id": "fa6913cc",
   "metadata": {},
   "outputs": [
    {
     "name": "stdout",
     "output_type": "stream",
     "text": [
      "Index(['CODIGO_LOCACION', 'HORA', 'CANTIDAD', 'SENTIDO', 'LATITUD',\n",
      "       'LONGITUD'],\n",
      "      dtype='object')\n"
     ]
    }
   ],
   "source": [
    "print(df.columns)"
   ]
  },
  {
   "cell_type": "markdown",
   "id": "9811ff09",
   "metadata": {},
   "source": [
    "Verifico la estrucura del Dataset\n"
   ]
  },
  {
   "cell_type": "code",
   "execution_count": 3,
   "id": "0f87771e",
   "metadata": {},
   "outputs": [
    {
     "data": {
      "text/plain": [
       "pandas.core.frame.DataFrame"
      ]
     },
     "execution_count": 3,
     "metadata": {},
     "output_type": "execute_result"
    }
   ],
   "source": [
    "type(df)"
   ]
  },
  {
   "cell_type": "markdown",
   "id": "c0e5c362",
   "metadata": {},
   "source": [
    "Informacion sobre el contenido del dataset"
   ]
  },
  {
   "cell_type": "code",
   "execution_count": 5,
   "id": "fd0f0d85",
   "metadata": {},
   "outputs": [
    {
     "name": "stdout",
     "output_type": "stream",
     "text": [
      "<class 'pandas.core.frame.DataFrame'>\n",
      "RangeIndex: 189814 entries, 0 to 189813\n",
      "Data columns (total 6 columns):\n",
      " #   Column           Non-Null Count   Dtype  \n",
      "---  ------           --------------   -----  \n",
      " 0   CODIGO_LOCACION  189814 non-null  object \n",
      " 1   HORA             189814 non-null  object \n",
      " 2   CANTIDAD         189814 non-null  int64  \n",
      " 3   SENTIDO          189814 non-null  object \n",
      " 4   LATITUD          186412 non-null  float64\n",
      " 5   LONGITUD         186412 non-null  float64\n",
      "dtypes: float64(2), int64(1), object(3)\n",
      "memory usage: 8.7+ MB\n"
     ]
    }
   ],
   "source": [
    "df.info()"
   ]
  },
  {
   "cell_type": "markdown",
   "id": "3fad7dea",
   "metadata": {},
   "source": [
    "Obtener la totalidad de registros por columnas --> Analizar Valores missing"
   ]
  },
  {
   "cell_type": "code",
   "execution_count": 11,
   "id": "e571404a",
   "metadata": {},
   "outputs": [
    {
     "data": {
      "text/plain": [
       "CODIGO_LOCACION    189814\n",
       "HORA               189814\n",
       "CANTIDAD           189814\n",
       "SENTIDO            189814\n",
       "LATITUD            186412\n",
       "LONGITUD           186412\n",
       "dtype: int64"
      ]
     },
     "execution_count": 11,
     "metadata": {},
     "output_type": "execute_result"
    }
   ],
   "source": [
    "df.count()"
   ]
  }
 ],
 "metadata": {
  "kernelspec": {
   "display_name": "Python 3 (ipykernel)",
   "language": "python",
   "name": "python3"
  },
  "language_info": {
   "codemirror_mode": {
    "name": "ipython",
    "version": 3
   },
   "file_extension": ".py",
   "mimetype": "text/x-python",
   "name": "python",
   "nbconvert_exporter": "python",
   "pygments_lexer": "ipython3",
   "version": "3.11.3"
  }
 },
 "nbformat": 4,
 "nbformat_minor": 5
}
